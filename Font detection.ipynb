{
 "cells": [
  {
   "cell_type": "markdown",
   "id": "13311b25",
   "metadata": {},
   "source": [
    "## Font Detection using Image Classification"
   ]
  },
  {
   "cell_type": "markdown",
   "id": "2d8ddac1",
   "metadata": {},
   "source": [
    "### Submitted By:-   Dhruv Sharma "
   ]
  },
  {
   "cell_type": "code",
   "execution_count": 2,
   "id": "4e45adec",
   "metadata": {},
   "outputs": [
    {
     "name": "stdout",
     "output_type": "stream",
     "text": [
      "The font in the sample image is: Lato\n"
     ]
    }
   ],
   "source": [
    "# Import the required libraries\n",
    "\n",
    "import cv2\n",
    "import os\n",
    "\n",
    "# Input the path to the folder containing the font images\n",
    "\n",
    "fonts_path = \"fonts/\"\n",
    "\n",
    "# Create a dictionary to store the images of each font among five fonts namely:\n",
    "# Lato, Sansation, Roboto, Raleway and Walkway\n",
    "\n",
    "font_images = {}\n",
    "\n",
    "# Iterate through the subfolders in the fonts folder\n",
    "\n",
    "for font in os.listdir(fonts_path):\n",
    "    font_path = os.path.join(fonts_path, font)\n",
    "    \n",
    "    # Iterate through the images in the current font's folder\n",
    "    \n",
    "    for image in os.listdir(font_path):\n",
    "        image_path = os.path.join(font_path, image)\n",
    "        \n",
    "        # Load the image and add it to the dictionary\n",
    "        \n",
    "        if font not in font_images:\n",
    "            font_images[font] = []\n",
    "        \n",
    "        font_images[font].append(cv2.imread(image_path))\n",
    "\n",
    "# Input the path to the sample image\n",
    "\n",
    "sample_path = \"sample/sample1.jpg\"\n",
    "\n",
    "# Load the sample image\n",
    "\n",
    "sample_image = cv2.imread(sample_path)\n",
    "\n",
    "# Initialize the font and score variables with None and 0\n",
    "\n",
    "best_font = None\n",
    "best_score = 0\n",
    "\n",
    "# Iterate through the font images\n",
    "\n",
    "for font, images in font_images.items():\n",
    "    for font_image in images:\n",
    "\n",
    "        # Calculate the correlation coefficient between the sample image and the current font image\n",
    "        \n",
    "        score = cv2.matchTemplate(sample_image, font_image, cv2.TM_CCOEFF_NORMED)[0][0]\n",
    "        \n",
    "        # Update the best font and score if a better match is found\n",
    "        \n",
    "        if score > best_score:\n",
    "            best_font = font\n",
    "            best_score = score\n",
    "\n",
    "# Print the best matching font\n",
    "\n",
    "print(\"The font in the sample image is: \" + best_font)\n"
   ]
  },
  {
   "cell_type": "code",
   "execution_count": null,
   "id": "9d17cf96",
   "metadata": {},
   "outputs": [],
   "source": []
  }
 ],
 "metadata": {
  "kernelspec": {
   "display_name": "Python 3 (ipykernel)",
   "language": "python",
   "name": "python3"
  },
  "language_info": {
   "codemirror_mode": {
    "name": "ipython",
    "version": 3
   },
   "file_extension": ".py",
   "mimetype": "text/x-python",
   "name": "python",
   "nbconvert_exporter": "python",
   "pygments_lexer": "ipython3",
   "version": "3.10.4"
  }
 },
 "nbformat": 4,
 "nbformat_minor": 5
}
